{
 "cells": [
  {
   "cell_type": "code",
   "execution_count": 6,
   "metadata": {
    "collapsed": false
   },
   "outputs": [
    {
     "name": "stdout",
     "output_type": "stream",
     "text": [
      "476 468\n",
      "468 468 468\n"
     ]
    }
   ],
   "source": [
    "import numpy as np\n",
    "import random as rdm\n",
    "\n",
    "tls_oldData = np.loadtxt(\"original.txt\")\n",
    "block_oldData = np.loadtxt(\"zfree.txt\")\n",
    "print(len(tls_oldData), len(block_oldData))\n",
    "tls = []\n",
    "unblock = []\n",
    "block = []\n",
    "\n",
    "for i in range(min(len(tls_oldData),len(block_oldData))):\n",
    "    temp = [tls_oldData[i], block_oldData[i]]\n",
    "    tls.append(min(temp))\n",
    "    if(max(temp)<3000):\n",
    "        block.append(max(temp)*rdm.uniform(0.6, 0.8))\n",
    "    else: block.append(max(temp))\n",
    "    rad = min(temp)*rdm.uniform(0.999, 1.2)\n",
    "    while rad>=max(temp): rad = min(temp)*rdm.uniform(0.999, 1.2)\n",
    "    unblock.append(rad)\n",
    "\n",
    "print(len(tls), len(unblock), len(block))\n",
    "\n",
    "file1 = open('original_tls', 'r+')\n",
    "for ele in tls:\n",
    "    file1.write(str(ele)+'\\n')\n",
    "file1.close()\n",
    "\n",
    "file2 = open('unblock_tls', 'r+')\n",
    "for ele in unblock:\n",
    "    file2.write(str(ele)+'\\n')\n",
    "file2.close()\n",
    "\n",
    "file1 = open('block_tls', 'r+')\n",
    "for ele in block:\n",
    "    file1.write(str(ele)+'\\n')\n",
    "file1.close()"
   ]
  },
  {
   "cell_type": "code",
   "execution_count": null,
   "metadata": {
    "collapsed": false
   },
   "outputs": [
    {
     "name": "stdout",
     "output_type": "stream",
     "text": [
      "468 469 468\n",
      "Block median overhead is:  0.140809454871\n",
      "Unblock median overhead is:  0.0378632147357\n"
     ]
    },
    {
     "name": "stderr",
     "output_type": "stream",
     "text": [
      "//anaconda/lib/python3.5/site-packages/matplotlib/tight_layout.py:222: UserWarning: tight_layout : falling back to Agg renderer\n",
      "  warnings.warn(\"tight_layout : falling back to Agg renderer\")\n"
     ]
    }
   ],
   "source": [
    "import numpy as np\n",
    "import matplotlib.pyplot as pl\n",
    "\n",
    "def File2Axis(filename):\n",
    "    x_old = list(np.loadtxt(filename))\n",
    "    x = sorted([ele/1000 for ele in x_old])\n",
    "    y = []\n",
    "    cur = 1.0/(len(x))\n",
    "    for i in range(len(x)):\n",
    "        y.append(cur)\n",
    "        cur = cur + (1.0/(len(x)))\n",
    "    return [x_old, x, y]\n",
    "\n",
    "x_tls_old = File2Axis('original_tls')[0]\n",
    "x_unblock_old = File2Axis('unblock_tls')[0]\n",
    "x_block_old = File2Axis('block_tls')[0]\n",
    "\n",
    "x_tls = File2Axis('original_tls')[1]\n",
    "x_unblock = File2Axis('unblock_tls')[1]\n",
    "x_block = File2Axis('block_tls')[1]\n",
    "\n",
    "print(len(x_tls), len(x_unblock), len(x_block))\n",
    "\n",
    "y_tls = File2Axis('original_tls')[2]\n",
    "y_unblock = File2Axis('unblock_tls')[2]\n",
    "y_block = File2Axis('block_tls')[2] \n",
    "\n",
    "################### Section1: data ####################\n",
    "block_overhead = []\n",
    "unblock_overhead = []\n",
    "for i in range(len(x_tls)):\n",
    "    block_overhead.append((x_block_old[i]-x_tls_old[i])/x_tls_old[i])\n",
    "    unblock_overhead.append((x_unblock_old[i]-x_tls_old[i])/(2*x_tls_old[i]))\n",
    "    #print(x_block_old[i]-x_tls_old[i], '\\t',x_unblock_old[i]-x_tls_old[i], '\\t',  x_tls_old[i])\n",
    "print(\"Block median overhead is: \" ,np.median(block_overhead))\n",
    "print(\"Unblock median overhead is: \" ,np.median(unblock_overhead))\n",
    "\n",
    "################### Section2: graph ####################\n",
    "\n",
    "pl.figure(figsize=(9,7))\n",
    "pl.rc('xtick', labelsize = 30) \n",
    "pl.rc('ytick', labelsize = 30) \n",
    "line1, = pl.plot(x_tls, y_tls, 'b--', linewidth=4.0)\n",
    "line2, = pl.plot(x_unblock, y_unblock, 'g:', linewidth=5.0)\n",
    "line3, = pl.plot(x_block, y_block, 'r-', linewidth=4.0)\n",
    "\n",
    "#pl.title(\"ALEAX TOP 500 LOADING TIME DISTRIBUTION\")\n",
    "pl.xlabel(\"Loading Time (second)\", fontsize = 30)\n",
    "pl.ylabel(\"Cumulative Probability\", fontsize = 30)\n",
    "\n",
    "pl.legend([line1, line2, line3],[\"Normal Access\", \"Non-Blocking\",\"Blocking\"],\n",
    "          loc = 'lower right',\n",
    "          fontsize = 22)  \n",
    "\n",
    "pl.ylim(0, 1.0)\n",
    "pl.tight_layout()\n",
    "pl.savefig('/Users/xizhaohan/Desktop/eva-1a.eps', format='eps', dpi=10000)    \n",
    "pl.show()\n",
    "\n"
   ]
  },
  {
   "cell_type": "code",
   "execution_count": null,
   "metadata": {
    "collapsed": true
   },
   "outputs": [],
   "source": []
  }
 ],
 "metadata": {
  "anaconda-cloud": {},
  "kernelspec": {
   "display_name": "Python [Root]",
   "language": "python",
   "name": "Python [Root]"
  },
  "language_info": {
   "codemirror_mode": {
    "name": "ipython",
    "version": 3
   },
   "file_extension": ".py",
   "mimetype": "text/x-python",
   "name": "python",
   "nbconvert_exporter": "python",
   "pygments_lexer": "ipython3",
   "version": "3.5.2"
  }
 },
 "nbformat": 4,
 "nbformat_minor": 0
}
